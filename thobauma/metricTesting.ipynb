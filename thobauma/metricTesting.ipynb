{
 "cells": [
  {
   "cell_type": "code",
   "execution_count": 2,
   "metadata": {},
   "outputs": [],
   "source": [
    "#!/usr/bin/env python3\n",
    "# -*- coding: utf-8 -*-\n",
    "\"\"\"\n",
    "Created on Sat Dec 21 21:48:01 2019\n",
    "\n",
    "@author: fschwarz\n",
    "\"\"\"\n",
    "import matplotlib.pyplot as plt\n",
    "import networkx as nx\n",
    "from PIL import Image\n",
    "import numpy as np\n",
    "from math import exp, pow"
   ]
  },
  {
   "cell_type": "code",
   "execution_count": 6,
   "metadata": {},
   "outputs": [],
   "source": [
    "im = Image.open(\"images/birdraw.png\")\n",
    "imageArray = np.array(im)"
   ]
  },
  {
   "cell_type": "code",
   "execution_count": 15,
   "metadata": {},
   "outputs": [
    {
     "data": {
      "text/plain": [
       "4"
      ]
     },
     "execution_count": 15,
     "metadata": {},
     "output_type": "execute_result"
    }
   ],
   "source": [
    "n,m,r=imageArray.shape"
   ]
  },
  {
   "cell_type": "code",
   "execution_count": 11,
   "metadata": {},
   "outputs": [
    {
     "data": {
      "text/plain": [
       "array([184, 184, 184, 255], dtype=uint8)"
      ]
     },
     "execution_count": 11,
     "metadata": {},
     "output_type": "execute_result"
    }
   ],
   "source": [
    "imageArray[2][2]"
   ]
  },
  {
   "cell_type": "code",
   "execution_count": 23,
   "metadata": {},
   "outputs": [],
   "source": [
    "def boundaryPenalty(a, b, sigma):\n",
    "    bp = 100 * np.exp(- np.power(a - b, 2) / (2 * np.power(sigma, 2)))\n",
    "    return bp"
   ]
  },
  {
   "cell_type": "code",
   "execution_count": 18,
   "metadata": {},
   "outputs": [],
   "source": [
    "a = np.array([0,0,0])\n",
    "b=np.array([255,255,255])"
   ]
  },
  {
   "cell_type": "code",
   "execution_count": 28,
   "metadata": {},
   "outputs": [
    {
     "data": {
      "text/plain": [
       "60.653065971263345"
      ]
     },
     "execution_count": 28,
     "metadata": {},
     "output_type": "execute_result"
    }
   ],
   "source": [
    "boundaryPenalty(,1,1)"
   ]
  },
  {
   "cell_type": "code",
   "execution_count": null,
   "metadata": {},
   "outputs": [],
   "source": []
  },
  {
   "cell_type": "code",
   "execution_count": null,
   "metadata": {},
   "outputs": [],
   "source": []
  },
  {
   "cell_type": "code",
   "execution_count": null,
   "metadata": {},
   "outputs": [],
   "source": [
    "#input: array of the image\n",
    "#output: the network G, pos: a dictionnary that gives the position in 2D to nodes\n",
    "def getNetwork(imgArray):\n",
    "    G = nx.DiGraph()\n",
    "    pos = {}\n",
    "    SIZE = len(imgArray)    \n",
    "    for x in range(SIZE):\n",
    "        for y in range(SIZE):\n",
    "            G.add_edge('s', str(x) + str(y), capacity=imgArray[y,x][1])\n",
    "            \n",
    "    for x in range(SIZE):\n",
    "        for y in range(SIZE):\n",
    "            G.add_edge(str(x) + str(y), 't', capacity=255-imgArray[y,x][1])\n",
    "            \n",
    "            \n",
    "    CAPACITY_LOCAL = 64\n",
    "    for x in range(SIZE-1):\n",
    "        for y in range(SIZE):\n",
    "            G.add_edge(str(x) + str(y), str(x+1) + str(y), capacity=CAPACITY_LOCAL)\n",
    "            G.add_edge(str(x+1) + str(y), str(x) + str(y), capacity=CAPACITY_LOCAL)\n",
    "    \n",
    "    for x in range(SIZE):\n",
    "        for y in range(SIZE-1):\n",
    "            G.add_edge(str(x) + str(y), str(x) + str(y+1), capacity=CAPACITY_LOCAL)\n",
    "            G.add_edge(str(x) + str(y+1), str(x) + str(y), capacity=CAPACITY_LOCAL)\n",
    "            \n",
    "            \n",
    "    pos['s'] = [-1, -SIZE/2]\n",
    "    pos['t'] = [SIZE , -SIZE/2]\n",
    "    \n",
    "    for x in range(SIZE):\n",
    "        for y in range(SIZE):\n",
    "            pos[str(x) + str(y)] = [x, -y]\n",
    "            \n",
    "    return G, pos\n",
    "    \n",
    "\n",
    "#input: rgba_color color array [r, g, b] where numbers are between 0 and 255\n",
    "#output: the hexadeciam lcode\n",
    "def rgbarray2hex(rgba_color):\n",
    "    red = int(rgba_color[0])\n",
    "    green = int(rgba_color[1])\n",
    "    blue = int(rgba_color[2])\n",
    "    return '#%02x%02x%02x' % (red, green, blue)\n",
    "\n",
    "#input: an integer i between 0 and 255\n",
    "#output: a gray color in hexa that represents that integer\n",
    "def int2grayhex(i):\n",
    "    j = 192-2*i//3\n",
    "    return rgbarray2hex([j, j, j])\n",
    "\n",
    "#load the file image.png and returns the array of the colors\n",
    "def getImgArray():\n",
    "    im = Image.open(\"image.png\")\n",
    "    return np.array(im)\n",
    "\n",
    "#draw the network\n",
    "def draw(G, pos, imgArray, cut, filename):    \n",
    "    #pos = nx.spring_layout(G, iterations=500)\n",
    "    plt.figure(figsize=(8, 8))\n",
    "    #nx.draw(G, pos) #pos, node_size=20, alpha=0.5, node_color=\"blue\", with_labels=False\n",
    "    \n",
    "    NODE_SIZE = 300\n",
    "    nx.draw_networkx_nodes(G,pos,\n",
    "                           nodelist=['s', 't'],\n",
    "                           node_color='black',\n",
    "                           node_size=NODE_SIZE)\n",
    "    \n",
    "    \n",
    "    SIZE = len(imgArray)\n",
    "    for x in range(SIZE):\n",
    "        for y in range(SIZE):\n",
    "            if(str(x) + str(y) in cut[0]):\n",
    "                flag = 'blue'\n",
    "                node_shape='v'\n",
    "            else:\n",
    "                flag = 'black'\n",
    "                node_shape = 'o'\n",
    "                \n",
    "            nx.draw_networkx_nodes(G,pos,\n",
    "                           nodelist=[str(x) + str(y)],\n",
    "                           node_color=rgbarray2hex(imgArray[y,x]),\n",
    "                           edgecolors = flag,\n",
    "                           node_shape=node_shape,\n",
    "                           node_size=NODE_SIZE)\n",
    "            \n",
    "    for e in G.edges:\n",
    "        nx.draw_networkx_edges(G,pos,\n",
    "                           edgelist=[e],\n",
    "                           width=1,alpha=1,edge_color=int2grayhex(G.get_edge_data(e[0], e[1])['capacity']))   \n",
    "    \n",
    "    plt.axis('equal')\n",
    "    \n",
    "    plt.savefig(filename)\n",
    "    plt.show()\n",
    "        \n",
    "    \n",
    "    \n",
    "    \n",
    "\n",
    "imgArray = getImgArray()\n",
    "G, pos = getNetwork(imgArray)\n",
    "cutvvalue, cut = nx.minimum_cut(G, 's', 't')\n",
    "\n",
    "draw(G, pos, imgArray, [[], []], \"maxflow_imagesegmentation_network.png\")\n",
    "draw(G, pos, imgArray, cut, \"maxflow_imagesegmentation_result.png\")\n"
   ]
  }
 ],
 "metadata": {
  "kernelspec": {
   "display_name": "Python 3",
   "language": "python",
   "name": "python3"
  },
  "language_info": {
   "codemirror_mode": {
    "name": "ipython",
    "version": 3
   },
   "file_extension": ".py",
   "mimetype": "text/x-python",
   "name": "python",
   "nbconvert_exporter": "python",
   "pygments_lexer": "ipython3",
   "version": "3.7.5"
  }
 },
 "nbformat": 4,
 "nbformat_minor": 2
}
